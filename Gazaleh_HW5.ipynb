{
  "nbformat": 4,
  "nbformat_minor": 0,
  "metadata": {
    "colab": {
      "provenance": [],
      "include_colab_link": true
    },
    "kernelspec": {
      "name": "python3",
      "display_name": "Python 3"
    },
    "language_info": {
      "name": "python"
    }
  },
  "cells": [
    {
      "cell_type": "markdown",
      "metadata": {
        "id": "view-in-github",
        "colab_type": "text"
      },
      "source": [
        "<a href=\"https://colab.research.google.com/github/Gazaleh/AST4930_HW7/blob/master/Gazaleh_HW5.ipynb\" target=\"_parent\"><img src=\"https://colab.research.google.com/assets/colab-badge.svg\" alt=\"Open In Colab\"/></a>"
      ]
    },
    {
      "cell_type": "code",
      "execution_count": null,
      "metadata": {
        "colab": {
          "base_uri": "https://localhost:8080/",
          "height": 313
        },
        "id": "asTLtWLzNv_j",
        "outputId": "5293ac2b-7369-4a2f-a719-0b48e80e3a0a"
      },
      "outputs": [
        {
          "output_type": "execute_result",
          "data": {
            "text/plain": [
              "Text(0, 0.5, \"Elevator's Position\")"
            ]
          },
          "metadata": {},
          "execution_count": 1
        },
        {
          "output_type": "display_data",
          "data": {
            "text/plain": [
              "<Figure size 432x288 with 1 Axes>"
            ],
            "image/png": "[encoded data removed]"
          },
          "metadata": {
            "needs_background": "light"
          }
        }
      ],
      "source": [
        "import numpy as np\n",
        "\n",
        "#The Passenger/People riding the elevator\n",
        "class People():\n",
        "  def __init__(self, initial, end, position):\n",
        "    self.initial= initial\n",
        "    self.end= end\n",
        "    self.position= position\n",
        "  \n",
        "#these two used in floor randomization\n",
        "  def change_in(self,amount):\n",
        "    self.initial= amount\n",
        "\n",
        "  def change_fin(self,amount):\n",
        "    self.end= amount\n",
        "\n",
        "#these two functions move the people \n",
        "  def up(self):\n",
        "    self.position +=1\n",
        "  \n",
        "  def down(self):\n",
        "    self.position -=1\n",
        "\n",
        "#the tool for transportation\n",
        "class Elevator():\n",
        "  def __init__(self, name, position):\n",
        "    self.name=name\n",
        "    self.position= position\n",
        "\n",
        "#these two functions move the people \n",
        "\n",
        "  def up(self):\n",
        "    self.position +=1\n",
        "  \n",
        "  def down(self):\n",
        "    self.position -=1\n",
        "\n",
        "#instatiating the elevator and people\n",
        "elevator= Elevator(name=\"Big Tuna\", position=1)\n",
        "passengers= list()\n",
        "for i in range(10):\n",
        "  passengers.append(People(0,0,0))\n",
        "\n",
        "#ensures that the initial floors are NOT equivalent for any person\n",
        "#also ensures that final floor are NOT initial floor for one person (aka no net movement)\n",
        "#last line ensures that position of one person is their initial floor\n",
        "rng=np.random.choice(100,20, False)\n",
        "for i in range(10):\n",
        "  passengers[i].change_in(rng[i])\n",
        "  passengers[i].change_fin(rng[i+10])\n",
        "  passengers[i].position=rng[i]\n",
        "\n",
        "#moving the elevator and keeping track of the time\n",
        "time_counter=0\n",
        "tuna_position=list()\n",
        "for i in passengers:\n",
        "  while elevator.position!=i.initial:\n",
        "    if elevator.position <= i.initial:\n",
        "      elevator.up()\n",
        "      time_counter +=1\n",
        "      tuna_position.append(elevator.position)\n",
        "    elif elevator.position >= i.initial:\n",
        "      elevator.down()\n",
        "      time_counter +=1\n",
        "      tuna_position.append(elevator.position)\n",
        "\n",
        "  while elevator.position!=i.end:\n",
        "    if elevator.position <= i.end:\n",
        "      elevator.up()\n",
        "      i.up()\n",
        "      time_counter +=1\n",
        "      tuna_position.append(elevator.position)\n",
        "    elif elevator.position >= i.end:\n",
        "      elevator.down()\n",
        "      i.down()\n",
        "      time_counter +=1\n",
        "      tuna_position.append(elevator.position)\n",
        "#code^ moves the elevator to initial of each person \"i\" THEN to their final\n",
        "\n",
        "\n",
        "import matplotlib.pyplot as plt\n",
        "t=np.arange(0, time_counter)\n",
        "plt.plot(t, tuna_position) \n",
        "plt.title(\"Big Tuna's Adventure\")\n",
        "plt.xlabel('time')\n",
        "plt.ylabel(\"Elevator's Position\")"
      ]
    },
    {
      "cell_type": "markdown",
      "source": [
        "the below code helps show the position of people before and after ride. "
      ],
      "metadata": {
        "id": "-kO-gW3aP7_S"
      }
    },
    {
      "cell_type": "code",
      "source": [
        "for i in passengers:\n",
        "  print(i.initial, i.end, i.position)\n",
        "print(\"----\")\n",
        "for i in passengers:\n",
        "  print(i.initial, i.end, i.position)\n",
        "#to show the progression of the elevator as a fact checker as well as position\n",
        "#input at line 52 and 79 for proof that people ALSO move"
      ],
      "metadata": {
        "colab": {
          "base_uri": "https://localhost:8080/"
        },
        "id": "4RbbJ4ddjUK7",
        "outputId": "e3a7a298-b15d-4c2e-ed7c-ef09844f5d2a"
      },
      "execution_count": null,
      "outputs": [
        {
          "output_type": "stream",
          "name": "stdout",
          "text": [
            "17 27 27\n",
            "88 8 8\n",
            "48 51 51\n",
            "84 18 18\n",
            "78 25 25\n",
            "89 95 95\n",
            "5 10 10\n",
            "67 44 44\n",
            "11 4 4\n",
            "63 15 15\n",
            "----\n",
            "17 27 27\n",
            "88 8 8\n",
            "48 51 51\n",
            "84 18 18\n",
            "78 25 25\n",
            "89 95 95\n",
            "5 10 10\n",
            "67 44 44\n",
            "11 4 4\n",
            "63 15 15\n"
          ]
        }
      ]
    },
    {
      "cell_type": "code",
      "source": [],
      "metadata": {
        "id": "YHuiONTL-8Wm"
      },
      "execution_count": null,
      "outputs": []
    }
  ]
}